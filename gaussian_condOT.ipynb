{
 "cells": [
  {
   "cell_type": "markdown",
   "metadata": {},
   "source": [
    "## **Flow Matching for Gaussian CondOT Path**"
   ]
  },
  {
   "cell_type": "markdown",
   "metadata": {},
   "source": [
    "This notebook trains a neural network to match the flow for the Gaussian CondOT path: $p_t(z \\mid x) = \\mathcal{N}(tz, (1 - t)^2)$"
   ]
  },
  {
   "cell_type": "code",
   "execution_count": 2,
   "metadata": {},
   "outputs": [
    {
     "name": "stdout",
     "output_type": "stream",
     "text": [
      "Using device: cpu\n"
     ]
    }
   ],
   "source": [
    "# Import libraries\n",
    "import numpy as np \n",
    "import torch\n",
    "import torch.nn as nn\n",
    "import matplotlib.pyplot as plt \n",
    "\n",
    "# Set random seed for reproducibility\n",
    "torch.manual_seed(42)\n",
    "np.random.seed(42)\n",
    "\n",
    "# Device configuration (use GPU if available)\n",
    "device = torch.device(\"cuda\" if torch.cuda.is_available() else \"cpu\")\n",
    "print(f\"Using device: {device}\")"
   ]
  },
  {
   "cell_type": "markdown",
   "metadata": {},
   "source": [
    "### **1. Define the Dataset**\n",
    "\n",
    "We need a dataset of samples $z \\sim p_{\\text{data}}$.  For simplicity, let’s assume $p_{\\text{data}}$ is a 1D Gaussian distribution, $\\mathcal{N}(5, 1)$, centered at 5 with a standard deviation of 1.  In practice, this could be a more complex distribution (e.g., image data), but 1D makes visualization easier."
   ]
  },
  {
   "cell_type": "code",
   "execution_count": 3,
   "metadata": {},
   "outputs": [
    {
     "data": {
      "image/png": "[encoded data removed]",
      "text/plain": [
       "<Figure size 640x480 with 1 Axes>"
      ]
     },
     "metadata": {},
     "output_type": "display_data"
    }
   ],
   "source": [
    "n_samples = 1000\n",
    "z_data = np.random.normal(loc = 5.0, scale = 1.0, size = n_samples)\n",
    "\n",
    "# Convert to PyTorch tensor\n",
    "z_data = torch.tensor(z_data, dtype = torch.float32).to(device)\n",
    "\n",
    "# Visualize the data distribution\n",
    "plt.hist(z_data.cpu().numpy(), bins=50, density=True, alpha=0.7, color='blue', label='Data distribution')\n",
    "plt.title(\"Data Distribution: z ~ N(5, 1)\")\n",
    "plt.xlabel(\"z\")\n",
    "plt.ylabel(\"Density\")\n",
    "plt.legend()\n",
    "plt.show()"
   ]
  },
  {
   "cell_type": "markdown",
   "metadata": {},
   "source": [
    "### **2. Define the Neural Network**\n",
    "\n",
    "We need a neural network $u_\\theta(x, t)$ to approximate the vector field.  Since $x$ and $t$ are inputs, and we’re in 1D, the network takes a 2D input ($x$ and $t$) and outputs a 1D vector (the velocity). We’ll use a simple feedforward network with a few layers."
   ]
  },
  {
   "cell_type": "code",
   "execution_count": 4,
   "metadata": {},
   "outputs": [],
   "source": [
    "class VectorFieldNet(nn.Module): \n",
    "    def __init__(self, hidden_dim = 64): \n",
    "        super(VectorFieldNet, self).__init__()\n",
    "        self.net = nn.Sequential(\n",
    "            nn.Linear(2, hidden_dim), \n",
    "            nn.ReLU(),\n",
    "            nn.Linear(hidden_dim, hidden_dim), \n",
    "            nn.ReLU(), \n",
    "            nn.Linear(hidden_dim, 1)\n",
    "        )\n",
    "\n",
    "    def forward(self, x, t): \n",
    "        # Concatenate x and t as input\n",
    "        inputs = torch.cat([x.unsqueeze(-1), t.unsqueeze(-1)], dim = -1)\n",
    "        return self.net(inputs)\n",
    "    \n",
    "\n",
    "model = VectorFieldNet().to(device)"
   ]
  },
  {
   "cell_type": "markdown",
   "metadata": {},
   "source": [
    "### **3. Train the Neural Network**"
   ]
  },
  {
   "cell_type": "code",
   "execution_count": null,
   "metadata": {},
   "outputs": [],
   "source": [
    "batch_size = 128\n",
    "n_epochs = 5000 \n",
    "learning_rate = 1e-3\n",
    "\n",
    "# Optimizer \n",
    "optimizer = torch.optim.Adam(model.parameters(), lr = learning_rate)\n",
    "\n",
    "# Lists to store losses for plotting\n",
    "losses = [] \n",
    "\n",
    "# Training loop\n",
    "for epoch in range(n_epochs): \n",
    "    # Step 1: sample a mini-batch of z \n",
    "    indices = np.random.choice(n_samples, batch_size)\n",
    "    z = z_data[indices].unsqueeze(-1) # Shape: (batch_size, 1)\n",
    "\n",
    "    # Step 2: Sample t ~ Unif [0, 1]\n",
    "    t = torch.rand(batch_size, device = device) # Shape: (batch_size, )\n",
    "\n",
    "    # Step 3: Sample noise epsilon ~ N(0, 1)\n",
    "    epsilon = torch.randn(batch_size, 1, device = device) # Shape: (batch_size, 1)\n",
    "\n",
    "    # Step 4: Compute x = t*z + (1-t)*epsilon\n",
    "    x = t.unsqueeze(-1)*z + (1 - t.unsqueeze(-1) * epsilon) # Shape: (batch_size, 1)\n",
    "\n",
    "    # step 5: Compute the target u_t(x|z) = z - epsilon\n",
    "    target = z - epsilon # Shape: (batch_size, 1)\n",
    "\n",
    "    # Step 6: Compute the model prediction u_theta(x, t)\n",
    "    u_theta = model(x, t) # Shape: (batch_size, 1)\n",
    "\n",
    "    # Step 7: Compute the loss\n",
    "    loss = torch.mean((u_theta - target)**2)\n",
    "\n",
    "    # Step 8: Backpropagation and optimization \n",
    "    optimizer.zero_grad() \n",
    "    loss.backward() \n",
    "    optimizer.step() \n",
    "\n",
    "    # Store the loss\n",
    "    losses.append(loss.item())\n",
    "\n",
    "    # Print progress every 500 epochs \n",
    "    if (epoch + 1) % 500 == 0: \n",
    "        print(f\"Epoch [{epoch+1}/{n_epochs}], Loss: {loss.item():.4f}\")"
   ]
  },
  {
   "cell_type": "code",
   "execution_count": null,
   "metadata": {},
   "outputs": [],
   "source": [
    "# Plot the training loss\n",
    "plt.plot(losses, label='Training Loss')\n",
    "plt.title(\"Training Loss Over Epochs\")\n",
    "plt.xlabel(\"Epoch\")\n",
    "plt.ylabel(\"Loss\")\n",
    "plt.legend()\n",
    "plt.show()"
   ]
  },
  {
   "cell_type": "code",
   "execution_count": 5,
   "metadata": {},
   "outputs": [
    {
     "data": {
      "text/plain": [
       "torch.Size([1000])"
      ]
     },
     "execution_count": 5,
     "metadata": {},
     "output_type": "execute_result"
    }
   ],
   "source": [
    "z_data.shape"
   ]
  }
 ],
 "metadata": {
  "kernelspec": {
   "display_name": "flow-diffusion-venv",
   "language": "python",
   "name": "python3"
  },
  "language_info": {
   "codemirror_mode": {
    "name": "ipython",
    "version": 3
   },
   "file_extension": ".py",
   "mimetype": "text/x-python",
   "name": "python",
   "nbconvert_exporter": "python",
   "pygments_lexer": "ipython3",
   "version": "3.12.9"
  }
 },
 "nbformat": 4,
 "nbformat_minor": 2
}
