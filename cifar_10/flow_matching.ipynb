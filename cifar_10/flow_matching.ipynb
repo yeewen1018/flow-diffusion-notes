{
 "cells": [
  {
   "cell_type": "markdown",
   "id": "0229f442",
   "metadata": {},
   "source": [
    "## **Flow Matching** \n",
    "\n",
    "This notebook trains a simple (vanilla) flow matching model on the CIFAR-10 dataset. "
   ]
  },
  {
   "cell_type": "code",
   "execution_count": null,
   "id": "fc49c28a",
   "metadata": {},
   "outputs": [],
   "source": [
    "import torch\n",
    "import torch.nn as nn\n",
    "import torch.nn.functional as F\n",
    "from torchvision import datasets, transforms\n",
    "from torchvision.utils import make_grid\n",
    "from torch.utils.data import DataLoader\n",
    "import matplotlib.pyplot as plt\n",
    "import numpy as np\n",
    "from tqdm import tqdm"
   ]
  },
  {
   "cell_type": "code",
   "execution_count": null,
   "id": "66244ffb",
   "metadata": {},
   "outputs": [],
   "source": [
    "class FlowUNet(nn.Module):\n",
    "    def __init__(self, in_channels=3, base_channels=64):\n",
    "        super().__init__()\n",
    "        self.enc1 = nn.Sequential(\n",
    "            nn.Conv2d(in_channels + 1, base_channels, 3, padding=1), nn.ReLU(),\n",
    "            nn.Conv2d(base_channels, base_channels, 3, padding=1), nn.ReLU()\n",
    "        )\n",
    "        self.pool1 = nn.MaxPool2d(2)\n",
    "        self.enc2 = nn.Sequential(\n",
    "            nn.Conv2d(base_channels, base_channels * 2, 3, padding=1), nn.ReLU(),\n",
    "            nn.Conv2d(base_channels * 2, base_channels * 2, 3, padding=1), nn.ReLU()\n",
    "        )\n",
    "        self.pool2 = nn.MaxPool2d(2)\n",
    "        self.middle = nn.Sequential(\n",
    "            nn.Conv2d(base_channels * 2, base_channels * 4, 3, padding=1), nn.ReLU(),\n",
    "            nn.Conv2d(base_channels * 4, base_channels * 4, 3, padding=1), nn.ReLU()\n",
    "        )\n",
    "        self.up1 = nn.ConvTranspose2d(base_channels * 4, base_channels * 2, 2, stride=2)\n",
    "        self.dec1 = nn.Sequential(\n",
    "            nn.Conv2d(base_channels * 4, base_channels * 2, 3, padding=1), nn.ReLU(),\n",
    "            nn.Conv2d(base_channels * 2, base_channels * 2, 3, padding=1), nn.ReLU()\n",
    "        )\n",
    "        self.up2 = nn.ConvTranspose2d(base_channels * 2, base_channels, 2, stride=2)\n",
    "        self.dec2 = nn.Sequential(\n",
    "            nn.Conv2d(base_channels * 2, base_channels, 3, padding=1), nn.ReLU(),\n",
    "            nn.Conv2d(base_channels, base_channels, 3, padding=1), nn.ReLU()\n",
    "        )\n",
    "        self.out = nn.Conv2d(base_channels, in_channels, 1)\n",
    "\n",
    "    def forward(self, x, t):\n",
    "        t = t[:, None, None, None].float().expand(-1, 1, x.size(2), x.size(3))\n",
    "        x = torch.cat([x, t], dim=1)\n",
    "        e1 = self.enc1(x)\n",
    "        e2 = self.enc2(self.pool1(e1))\n",
    "        m = self.middle(self.pool2(e2))\n",
    "        d1 = self.up1(m)\n",
    "        d1 = self.dec1(torch.cat([d1, e2], dim=1))\n",
    "        d2 = self.up2(d1)\n",
    "        d2 = self.dec2(torch.cat([d2, e1], dim=1))\n",
    "        return self.out(d2)\n"
   ]
  },
  {
   "cell_type": "code",
   "execution_count": null,
   "id": "6980ab76",
   "metadata": {},
   "outputs": [],
   "source": [
    "def sample_flow_data(x0):\n",
    "    B = x0.size(0)\n",
    "    x1 = torch.randn_like(x0)\n",
    "    t = torch.rand(B, device=x0.device).view(B, 1, 1, 1)\n",
    "    xt = (1 - t) * x0 + t * x1\n",
    "    v_target = (x1 - x0) / (t * (1 - t))\n",
    "    return xt, t.squeeze(), v_target"
   ]
  },
  {
   "cell_type": "code",
   "execution_count": null,
   "id": "65345ffc",
   "metadata": {},
   "outputs": [],
   "source": [
    "def train_flow_matching(model, loader, optimizer, epochs=10, device='cuda'):\n",
    "    model.train()\n",
    "    all_losses = []\n",
    "    for epoch in range(epochs):\n",
    "        total_loss = 0\n",
    "        for x, _ in tqdm(loader, desc=f\"Epoch {epoch+1}\"):\n",
    "            x = x.to(device)\n",
    "            xt, t, v_target = sample_flow_data(x)\n",
    "            pred_v = model(xt, t)\n",
    "            loss = F.mse_loss(pred_v, v_target)\n",
    "            optimizer.zero_grad()\n",
    "            loss.backward()\n",
    "            optimizer.step()\n",
    "            total_loss += loss.item() * x.size(0)\n",
    "        avg_loss = total_loss / len(loader.dataset)\n",
    "        all_losses.append(avg_loss)\n",
    "        print(f\"Epoch {epoch+1}: loss = {avg_loss:.4f}\")\n",
    "    return all_losses"
   ]
  },
  {
   "cell_type": "code",
   "execution_count": null,
   "id": "0288c09b",
   "metadata": {},
   "outputs": [],
   "source": [
    "@torch.no_grad()\n",
    "def sample_flow(model, steps=50, return_trajectory=False):\n",
    "    model.eval()\n",
    "    x = torch.randn(1, 3, 32, 32).to(next(model.parameters()).device)\n",
    "    dt = 1.0 / steps\n",
    "    trajectory = [x.clone().cpu()]\n",
    "    for i in range(steps):\n",
    "        t = torch.ones(x.size(0), device=x.device) * (1 - i / steps)\n",
    "        v = model(x, t)\n",
    "        x = x - v * dt\n",
    "        if return_trajectory:\n",
    "            trajectory.append(x.clone().cpu())\n",
    "    return x.clamp(-1, 1).cpu(), trajectory if return_trajectory else None"
   ]
  },
  {
   "cell_type": "code",
   "execution_count": null,
   "id": "efbedc41",
   "metadata": {},
   "outputs": [],
   "source": [
    "device = 'cuda' if torch.cuda.is_available() else 'cpu'\n",
    "transform = transforms.Compose([\n",
    "    transforms.ToTensor(),\n",
    "    transforms.Lambda(lambda x: x * 2. - 1.)\n",
    "])\n",
    "dataset = datasets.CIFAR10(root='./data', train=True, transform=transform, download=True)\n",
    "loader = DataLoader(dataset, batch_size=128, shuffle=True)\n",
    "\n",
    "model = FlowUNet().to(device)\n",
    "optimizer = torch.optim.Adam(model.parameters(), lr=2e-4)\n",
    "\n",
    "losses = train_flow_matching(model, loader, optimizer, epochs=10, device=device)\n",
    "\n",
    "# Plot training loss\n",
    "plt.plot(losses, marker='o')\n",
    "plt.xlabel(\"Epoch\")\n",
    "plt.ylabel(\"Flow MSE Loss\")\n",
    "plt.title(\"Training Loss (Flow Matching)\")\n",
    "plt.grid(True)\n",
    "plt.show()"
   ]
  },
  {
   "cell_type": "code",
   "execution_count": null,
   "id": "cf3f4456",
   "metadata": {},
   "outputs": [],
   "source": [
    "samples = []\n",
    "model.eval()\n",
    "for _ in range(16):\n",
    "    sample, _ = sample_flow(model, steps=50)\n",
    "    samples.append(sample[0])\n",
    "samples = torch.stack(samples)\n",
    "grid = make_grid(samples, nrow=4, normalize=True)\n",
    "plt.figure(figsize=(6, 6))\n",
    "plt.imshow(grid.permute(1, 2, 0))\n",
    "plt.axis('off')\n",
    "plt.title(\"Flow Matching Samples\")\n",
    "plt.show()"
   ]
  },
  {
   "cell_type": "code",
   "execution_count": null,
   "id": "ddfe4aa1",
   "metadata": {},
   "outputs": [],
   "source": [
    "_, trajectory = sample_flow(model, steps=20, return_trajectory=True)\n",
    "plt.figure(figsize=(15, 3))\n",
    "for i, img in enumerate(trajectory[::4]):\n",
    "    plt.subplot(1, len(trajectory[::4]), i + 1)\n",
    "    plt.imshow((img[0].permute(1, 2, 0) + 1) / 2)\n",
    "    plt.axis(\"off\")\n",
    "    plt.title(f\"t={1 - i*0.2:.1f}\")\n",
    "plt.suptitle(\"Trajectory of 1 Sample Through Flow Field\")\n",
    "plt.show()"
   ]
  }
 ],
 "metadata": {
  "language_info": {
   "name": "python"
  }
 },
 "nbformat": 4,
 "nbformat_minor": 5
}
