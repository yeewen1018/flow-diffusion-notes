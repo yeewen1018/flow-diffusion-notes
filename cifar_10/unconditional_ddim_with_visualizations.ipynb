{
 "cells": [
  {
   "cell_type": "code",
   "execution_count": null,
   "id": "b4bdd7d5",
   "metadata": {},
   "outputs": [],
   "source": [
    "import torch\n",
    "import torch.nn as nn\n",
    "import torch.nn.functional as F\n",
    "from torchvision import datasets, transforms\n",
    "from torchvision.utils import make_grid\n",
    "from torch.utils.data import DataLoader\n",
    "import numpy as np\n",
    "import matplotlib.pyplot as plt\n",
    "from tqdm import tqdm"
   ]
  },
  {
   "cell_type": "code",
   "execution_count": null,
   "id": "cb804e96",
   "metadata": {},
   "outputs": [],
   "source": [
    "def linear_beta_schedule(timesteps):\n",
    "    return torch.linspace(1e-4, 0.02, timesteps)\n",
    "\n",
    "T = 1000\n",
    "betas = linear_beta_schedule(T)\n",
    "alphas = 1. - betas\n",
    "alphas_cumprod = torch.cumprod(alphas, dim=0)\n",
    "sqrt_alphas_cumprod = torch.sqrt(alphas_cumprod)\n",
    "sqrt_one_minus_alphas_cumprod = torch.sqrt(1 - alphas_cumprod)"
   ]
  },
  {
   "cell_type": "code",
   "execution_count": null,
   "id": "536580cd",
   "metadata": {},
   "outputs": [],
   "source": [
    "class UNet(nn.Module):\n",
    "    def __init__(self, in_channels=3, base_channels=64):\n",
    "        super().__init__()\n",
    "        self.enc1 = nn.Sequential(\n",
    "            nn.Conv2d(in_channels + 1, base_channels, 3, padding=1), nn.ReLU(),\n",
    "            nn.Conv2d(base_channels, base_channels, 3, padding=1), nn.ReLU()\n",
    "        )\n",
    "        self.pool1 = nn.MaxPool2d(2)\n",
    "\n",
    "        self.enc2 = nn.Sequential(\n",
    "            nn.Conv2d(base_channels, base_channels * 2, 3, padding=1), nn.ReLU(),\n",
    "            nn.Conv2d(base_channels * 2, base_channels * 2, 3, padding=1), nn.ReLU()\n",
    "        )\n",
    "        self.pool2 = nn.MaxPool2d(2)\n",
    "\n",
    "        self.mid = nn.Sequential(\n",
    "            nn.Conv2d(base_channels * 2, base_channels * 4, 3, padding=1), nn.ReLU(),\n",
    "            nn.Conv2d(base_channels * 4, base_channels * 4, 3, padding=1), nn.ReLU()\n",
    "        )\n",
    "\n",
    "        self.up1 = nn.ConvTranspose2d(base_channels * 4, base_channels * 2, 2, stride=2)\n",
    "        self.dec1 = nn.Sequential(\n",
    "            nn.Conv2d(base_channels * 4, base_channels * 2, 3, padding=1), nn.ReLU(),\n",
    "            nn.Conv2d(base_channels * 2, base_channels * 2, 3, padding=1), nn.ReLU()\n",
    "        )\n",
    "\n",
    "        self.up2 = nn.ConvTranspose2d(base_channels * 2, base_channels, 2, stride=2)\n",
    "        self.dec2 = nn.Sequential(\n",
    "            nn.Conv2d(base_channels * 2, base_channels, 3, padding=1), nn.ReLU(),\n",
    "            nn.Conv2d(base_channels, base_channels, 3, padding=1), nn.ReLU()\n",
    "        )\n",
    "\n",
    "        self.out = nn.Conv2d(base_channels, in_channels, 1)\n",
    "\n",
    "    def forward(self, x, t):\n",
    "        t = t[:, None, None, None].float() / T\n",
    "        t = t.expand(-1, 1, x.size(2), x.size(3))\n",
    "        x = torch.cat([x, t], dim=1)\n",
    "        e1 = self.enc1(x)\n",
    "        e2 = self.enc2(self.pool1(e1))\n",
    "        m = self.mid(self.pool2(e2))\n",
    "        d1 = self.up1(m)\n",
    "        d1 = self.dec1(torch.cat([d1, e2], dim=1))\n",
    "        d2 = self.up2(d1)\n",
    "        d2 = self.dec2(torch.cat([d2, e1], dim=1))\n",
    "        return self.out(d2)"
   ]
  },
  {
   "cell_type": "code",
   "execution_count": null,
   "id": "64b4fa1f",
   "metadata": {},
   "outputs": [],
   "source": [
    "def q_sample(x_0, t, noise):\n",
    "    return sqrt_alphas_cumprod[t][:, None, None, None] * x_0 + sqrt_one_minus_alphas_cumprod[t][:, None, None, None] * noise\n",
    "\n",
    "def train_ddim(model, loader, optimizer, epochs=10, device='cuda'):\n",
    "    model.train()\n",
    "    train_losses = []\n",
    "    for epoch in range(epochs):\n",
    "        total_loss = 0\n",
    "        for x, _ in tqdm(loader, desc=f\"Epoch {epoch+1}\"):\n",
    "            x = x.to(device)\n",
    "            t = torch.randint(0, T, (x.size(0),), device=device).long()\n",
    "            noise = torch.randn_like(x)\n",
    "            x_t = q_sample(x, t, noise)\n",
    "            pred = model(x_t, t)\n",
    "            loss = F.mse_loss(pred, noise)\n",
    "            optimizer.zero_grad()\n",
    "            loss.backward()\n",
    "            optimizer.step()\n",
    "            total_loss += loss.item() * x.size(0)\n",
    "        avg_loss = total_loss / len(loader.dataset)\n",
    "        train_losses.append(avg_loss)\n",
    "        print(f\"Epoch {epoch+1} - Loss: {avg_loss:.4f}\")\n",
    "    return train_losses\n"
   ]
  },
  {
   "cell_type": "code",
   "execution_count": null,
   "id": "1411188e",
   "metadata": {},
   "outputs": [],
   "source": [
    "@torch.no_grad()\n",
    "def ddim_sample(model, steps=50, eta=0.0):\n",
    "    device = next(model.parameters()).device\n",
    "    x = torch.randn((16, 3, 32, 32)).to(device)\n",
    "    trajectory = []\n",
    "\n",
    "    times = torch.linspace(T-1, 0, steps, dtype=torch.long)\n",
    "    for i in range(steps):\n",
    "        t = times[i].expand(x.size(0)).to(device)\n",
    "        noise_pred = model(x, t)\n",
    "\n",
    "        alpha_bar = alphas_cumprod[t].to(device)[:, None, None, None]\n",
    "        sqrt_ab = torch.sqrt(alpha_bar)\n",
    "        sqrt_one_minus_ab = torch.sqrt(1 - alpha_bar)\n",
    "\n",
    "        x0_pred = (x - sqrt_one_minus_ab * noise_pred) / sqrt_ab\n",
    "        if i < steps - 1:\n",
    "            t_next = times[i+1].expand(x.size(0)).to(device)\n",
    "            alpha_bar_next = alphas_cumprod[t_next].to(device)[:, None, None, None]\n",
    "            sigma = eta * torch.sqrt((1 - alpha_bar / alpha_bar_next) * (1 - alpha_bar_next) / (1 - alpha_bar))\n",
    "            noise = torch.randn_like(x) if eta > 0 else 0\n",
    "            x = torch.sqrt(alpha_bar_next) * x0_pred + torch.sqrt(1 - alpha_bar_next - sigma**2) * noise_pred + sigma * noise\n",
    "        else:\n",
    "            x = x0_pred\n",
    "        if i % 10 == 0 or i == steps - 1:\n",
    "            trajectory.append(x.cpu().clone())\n",
    "    return x.clamp(-1, 1).cpu(), trajectory\n"
   ]
  },
  {
   "cell_type": "code",
   "execution_count": null,
   "id": "4da89026",
   "metadata": {},
   "outputs": [],
   "source": [
    "device = 'cuda' if torch.cuda.is_available() else 'cpu'\n",
    "transform = transforms.Compose([\n",
    "    transforms.ToTensor(),\n",
    "    transforms.Lambda(lambda x: x * 2. - 1.)\n",
    "])\n",
    "dataset = datasets.CIFAR10(root='./data', train=True, transform=transform, download=True)\n",
    "loader = DataLoader(dataset, batch_size=128, shuffle=True)"
   ]
  },
  {
   "cell_type": "code",
   "execution_count": null,
   "id": "a2988218",
   "metadata": {},
   "outputs": [],
   "source": [
    "model = UNet().to(device)\n",
    "optimizer = torch.optim.Adam(model.parameters(), lr=2e-4)"
   ]
  },
  {
   "cell_type": "code",
   "execution_count": null,
   "id": "8371b844",
   "metadata": {},
   "outputs": [],
   "source": [
    "losses = train_ddim(model, loader, optimizer, epochs=10, device=device)"
   ]
  },
  {
   "cell_type": "code",
   "execution_count": null,
   "id": "7cbe03d9",
   "metadata": {},
   "outputs": [],
   "source": [
    "plt.figure(figsize=(6, 4))\n",
    "plt.plot(losses, marker='o')\n",
    "plt.xlabel(\"Epoch\")\n",
    "plt.ylabel(\"Loss\")\n",
    "plt.title(\"Training Loss (MSE)\")\n",
    "plt.grid(True)\n",
    "plt.show()"
   ]
  },
  {
   "cell_type": "code",
   "execution_count": null,
   "id": "4c039f75",
   "metadata": {},
   "outputs": [],
   "source": [
    "samples, traj = ddim_sample(model, steps=50, eta=0.0)\n",
    "grid = make_grid(samples, nrow=4, normalize=True)\n",
    "plt.figure(figsize=(6, 6))\n",
    "plt.imshow(grid.permute(1, 2, 0))\n",
    "plt.axis('off')\n",
    "plt.title(\"DDIM Samples (eta=0)\")\n",
    "plt.show()"
   ]
  },
  {
   "cell_type": "code",
   "execution_count": null,
   "id": "ab3b0e60",
   "metadata": {},
   "outputs": [],
   "source": [
    "# Visualize trajectory of the first sample\n",
    "plt.figure(figsize=(15, 3))\n",
    "for i, img in enumerate(traj):\n",
    "    plt.subplot(1, len(traj), i + 1)\n",
    "    plt.imshow((img[0].permute(1, 2, 0) + 1) / 2)\n",
    "    plt.axis(\"off\")\n",
    "    plt.title(f\"t={50 - i*10}\")\n",
    "plt.suptitle(\"Trajectory of 1 Sample Through DDIM\")\n",
    "plt.show()\n"
   ]
  }
 ],
 "metadata": {
  "language_info": {
   "name": "python"
  }
 },
 "nbformat": 4,
 "nbformat_minor": 5
}
